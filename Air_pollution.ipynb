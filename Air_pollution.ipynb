{
 "cells": [
  {
   "cell_type": "markdown",
   "id": "4be3d592-3ea9-4d6c-9995-4a18d5c268e0",
   "metadata": {},
   "source": [
    "# Project Title: Air Pollution Analysis in Selected Cities\n"
   ]
  },
  {
   "cell_type": "markdown",
   "id": "f91f2ac4-ee63-43c1-886e-0ff24828fdf8",
   "metadata": {},
   "source": [
    "## Problem Statement\n",
    "Air pollution is a growing concern affecting human health and the environment. This project aims to analyze AQI trends across different cities over the years to identify areas with high pollution and observe temporal patterns.\n",
    "\n",
    "## Project Description\n",
    "The dataset contains city-wise air quality data including AQI readings over several years. The data is cleaned in Excel, and a pivot table is created to summarize the *sum of AQI* and *count of AQI buckets*. Charts are generated to visualize trends and support insights. Observations and conclusions are drawn based on the analysis."
   ]
  },
  {
   "cell_type": "code",
   "execution_count": 2,
   "id": "acdac55c-7897-48b1-8779-b310f7c059d1",
   "metadata": {},
   "outputs": [],
   "source": [
    "## IMPORT LIBRARIES\n",
    "import pandas as pd\n",
    "import numpy as np\n",
    "import matplotlib.pyplot as plt\n",
    "import seaborn as sns\n"
   ]
  },
  {
   "cell_type": "code",
   "execution_count": 3,
   "id": "7bcffe70-f355-4277-8e6f-dacdf2ab67a6",
   "metadata": {},
   "outputs": [
    {
     "data": {
      "text/html": [
       "<div>\n",
       "<style scoped>\n",
       "    .dataframe tbody tr th:only-of-type {\n",
       "        vertical-align: middle;\n",
       "    }\n",
       "\n",
       "    .dataframe tbody tr th {\n",
       "        vertical-align: top;\n",
       "    }\n",
       "\n",
       "    .dataframe thead th {\n",
       "        text-align: right;\n",
       "    }\n",
       "</style>\n",
       "<table border=\"1\" class=\"dataframe\">\n",
       "  <thead>\n",
       "    <tr style=\"text-align: right;\">\n",
       "      <th></th>\n",
       "      <th>Unnamed: 0</th>\n",
       "      <th>Unnamed: 1</th>\n",
       "      <th>Unnamed: 2</th>\n",
       "      <th>Unnamed: 3</th>\n",
       "      <th>Unnamed: 4</th>\n",
       "      <th>Unnamed: 5</th>\n",
       "      <th>Unnamed: 6</th>\n",
       "      <th>Unnamed: 7</th>\n",
       "      <th>Unnamed: 8</th>\n",
       "      <th>Unnamed: 9</th>\n",
       "      <th>Unnamed: 10</th>\n",
       "      <th>Unnamed: 11</th>\n",
       "      <th>Unnamed: 12</th>\n",
       "      <th>Unnamed: 13</th>\n",
       "      <th>Unnamed: 14</th>\n",
       "    </tr>\n",
       "  </thead>\n",
       "  <tbody>\n",
       "    <tr>\n",
       "      <th>0</th>\n",
       "      <td>Row Labels</td>\n",
       "      <td>Sum of AQI</td>\n",
       "      <td>Count of AQI_Bucket</td>\n",
       "      <td>Sum of AQI</td>\n",
       "      <td>Count of AQI_Bucket</td>\n",
       "      <td>Sum of AQI</td>\n",
       "      <td>Count of AQI_Bucket</td>\n",
       "      <td>Sum of AQI</td>\n",
       "      <td>Count of AQI_Bucket</td>\n",
       "      <td>Sum of AQI</td>\n",
       "      <td>Count of AQI_Bucket</td>\n",
       "      <td>Sum of AQI</td>\n",
       "      <td>Count of AQI_Bucket</td>\n",
       "      <td>NaN</td>\n",
       "      <td>NaN</td>\n",
       "    </tr>\n",
       "    <tr>\n",
       "      <th>1</th>\n",
       "      <td>Ahmedabad</td>\n",
       "      <td>81780</td>\n",
       "      <td>263</td>\n",
       "      <td>36289</td>\n",
       "      <td>117</td>\n",
       "      <td>38555</td>\n",
       "      <td>69</td>\n",
       "      <td>222148</td>\n",
       "      <td>357</td>\n",
       "      <td>181756</td>\n",
       "      <td>352</td>\n",
       "      <td>42604</td>\n",
       "      <td>176</td>\n",
       "      <td>603132.0</td>\n",
       "      <td>1334.0</td>\n",
       "    </tr>\n",
       "    <tr>\n",
       "      <th>2</th>\n",
       "      <td>Aizawl</td>\n",
       "      <td>NaN</td>\n",
       "      <td>NaN</td>\n",
       "      <td>NaN</td>\n",
       "      <td>NaN</td>\n",
       "      <td>NaN</td>\n",
       "      <td>NaN</td>\n",
       "      <td>NaN</td>\n",
       "      <td>NaN</td>\n",
       "      <td>NaN</td>\n",
       "      <td>NaN</td>\n",
       "      <td>3859</td>\n",
       "      <td>111</td>\n",
       "      <td>3859.0</td>\n",
       "      <td>111.0</td>\n",
       "    </tr>\n",
       "    <tr>\n",
       "      <th>3</th>\n",
       "      <td>Amaravati</td>\n",
       "      <td>NaN</td>\n",
       "      <td>NaN</td>\n",
       "      <td>NaN</td>\n",
       "      <td>NaN</td>\n",
       "      <td>7123</td>\n",
       "      <td>37</td>\n",
       "      <td>31634</td>\n",
       "      <td>312</td>\n",
       "      <td>30432</td>\n",
       "      <td>309</td>\n",
       "      <td>10958</td>\n",
       "      <td>183</td>\n",
       "      <td>80147.0</td>\n",
       "      <td>841.0</td>\n",
       "    </tr>\n",
       "    <tr>\n",
       "      <th>4</th>\n",
       "      <td>Amritsar</td>\n",
       "      <td>NaN</td>\n",
       "      <td>NaN</td>\n",
       "      <td>NaN</td>\n",
       "      <td>NaN</td>\n",
       "      <td>39386</td>\n",
       "      <td>266</td>\n",
       "      <td>39828</td>\n",
       "      <td>324</td>\n",
       "      <td>39639</td>\n",
       "      <td>362</td>\n",
       "      <td>16178</td>\n",
       "      <td>174</td>\n",
       "      <td>135031.0</td>\n",
       "      <td>1126.0</td>\n",
       "    </tr>\n",
       "  </tbody>\n",
       "</table>\n",
       "</div>"
      ],
      "text/plain": [
       "   Unnamed: 0  Unnamed: 1           Unnamed: 2  Unnamed: 3  \\\n",
       "0  Row Labels  Sum of AQI  Count of AQI_Bucket  Sum of AQI   \n",
       "1   Ahmedabad       81780                  263       36289   \n",
       "2      Aizawl         NaN                  NaN         NaN   \n",
       "3   Amaravati         NaN                  NaN         NaN   \n",
       "4    Amritsar         NaN                  NaN         NaN   \n",
       "\n",
       "            Unnamed: 4  Unnamed: 5           Unnamed: 6  Unnamed: 7  \\\n",
       "0  Count of AQI_Bucket  Sum of AQI  Count of AQI_Bucket  Sum of AQI   \n",
       "1                  117       38555                   69      222148   \n",
       "2                  NaN         NaN                  NaN         NaN   \n",
       "3                  NaN        7123                   37       31634   \n",
       "4                  NaN       39386                  266       39828   \n",
       "\n",
       "            Unnamed: 8  Unnamed: 9          Unnamed: 10 Unnamed: 11  \\\n",
       "0  Count of AQI_Bucket  Sum of AQI  Count of AQI_Bucket  Sum of AQI   \n",
       "1                  357      181756                  352       42604   \n",
       "2                  NaN         NaN                  NaN        3859   \n",
       "3                  312       30432                  309       10958   \n",
       "4                  324       39639                  362       16178   \n",
       "\n",
       "           Unnamed: 12  Unnamed: 13  Unnamed: 14  \n",
       "0  Count of AQI_Bucket          NaN          NaN  \n",
       "1                  176     603132.0       1334.0  \n",
       "2                  111       3859.0        111.0  \n",
       "3                  183      80147.0        841.0  \n",
       "4                  174     135031.0       1126.0  "
      ]
     },
     "execution_count": 3,
     "metadata": {},
     "output_type": "execute_result"
    }
   ],
   "source": [
    "# Load the dataset\n",
    "file_path = r\"C:\\Users\\HP\\OneDrive\\air_pollution.xlsx\"  # Replace with your actual file path\n",
    "df = pd.read_excel(file_path, header=7)  \n",
    "# Display first 5 rows to check\n",
    "df.head()"
   ]
  },
  {
   "cell_type": "code",
   "execution_count": 4,
   "id": "395da731-4b1b-4ad3-9a17-5b63a4cb27eb",
   "metadata": {},
   "outputs": [
    {
     "data": {
      "text/html": [
       "<div>\n",
       "<style scoped>\n",
       "    .dataframe tbody tr th:only-of-type {\n",
       "        vertical-align: middle;\n",
       "    }\n",
       "\n",
       "    .dataframe tbody tr th {\n",
       "        vertical-align: top;\n",
       "    }\n",
       "\n",
       "    .dataframe thead th {\n",
       "        text-align: right;\n",
       "    }\n",
       "</style>\n",
       "<table border=\"1\" class=\"dataframe\">\n",
       "  <thead>\n",
       "    <tr style=\"text-align: right;\">\n",
       "      <th></th>\n",
       "      <th>Unnamed: 0</th>\n",
       "      <th>Unnamed: 1</th>\n",
       "      <th>Unnamed: 2</th>\n",
       "      <th>Unnamed: 3</th>\n",
       "      <th>Unnamed: 4</th>\n",
       "      <th>Unnamed: 5</th>\n",
       "      <th>Unnamed: 6</th>\n",
       "      <th>Unnamed: 7</th>\n",
       "      <th>Unnamed: 8</th>\n",
       "      <th>Unnamed: 9</th>\n",
       "      <th>Unnamed: 10</th>\n",
       "      <th>Unnamed: 11</th>\n",
       "      <th>Unnamed: 12</th>\n",
       "      <th>Unnamed: 13</th>\n",
       "      <th>Unnamed: 14</th>\n",
       "    </tr>\n",
       "  </thead>\n",
       "  <tbody>\n",
       "    <tr>\n",
       "      <th>1</th>\n",
       "      <td>Ahmedabad</td>\n",
       "      <td>81780</td>\n",
       "      <td>263</td>\n",
       "      <td>36289</td>\n",
       "      <td>117</td>\n",
       "      <td>38555</td>\n",
       "      <td>69</td>\n",
       "      <td>222148</td>\n",
       "      <td>357</td>\n",
       "      <td>181756</td>\n",
       "      <td>352</td>\n",
       "      <td>42604</td>\n",
       "      <td>176</td>\n",
       "      <td>603132.0</td>\n",
       "      <td>1334.0</td>\n",
       "    </tr>\n",
       "    <tr>\n",
       "      <th>5</th>\n",
       "      <td>Bengaluru</td>\n",
       "      <td>32196</td>\n",
       "      <td>286</td>\n",
       "      <td>37060</td>\n",
       "      <td>351</td>\n",
       "      <td>31712</td>\n",
       "      <td>364</td>\n",
       "      <td>31157</td>\n",
       "      <td>361</td>\n",
       "      <td>33435</td>\n",
       "      <td>365</td>\n",
       "      <td>14588</td>\n",
       "      <td>183</td>\n",
       "      <td>180148.0</td>\n",
       "      <td>1910.0</td>\n",
       "    </tr>\n",
       "    <tr>\n",
       "      <th>9</th>\n",
       "      <td>Chennai</td>\n",
       "      <td>40940</td>\n",
       "      <td>276</td>\n",
       "      <td>46281</td>\n",
       "      <td>334</td>\n",
       "      <td>37738</td>\n",
       "      <td>361</td>\n",
       "      <td>38504</td>\n",
       "      <td>365</td>\n",
       "      <td>37574</td>\n",
       "      <td>365</td>\n",
       "      <td>14686</td>\n",
       "      <td>183</td>\n",
       "      <td>215723.0</td>\n",
       "      <td>1884.0</td>\n",
       "    </tr>\n",
       "    <tr>\n",
       "      <th>11</th>\n",
       "      <td>Delhi</td>\n",
       "      <td>108414</td>\n",
       "      <td>365</td>\n",
       "      <td>110000</td>\n",
       "      <td>365</td>\n",
       "      <td>91395</td>\n",
       "      <td>356</td>\n",
       "      <td>90943</td>\n",
       "      <td>365</td>\n",
       "      <td>84718</td>\n",
       "      <td>365</td>\n",
       "      <td>33246</td>\n",
       "      <td>183</td>\n",
       "      <td>518716.0</td>\n",
       "      <td>1999.0</td>\n",
       "    </tr>\n",
       "    <tr>\n",
       "      <th>15</th>\n",
       "      <td>Hyderabad</td>\n",
       "      <td>39010</td>\n",
       "      <td>272</td>\n",
       "      <td>41869</td>\n",
       "      <td>337</td>\n",
       "      <td>40214</td>\n",
       "      <td>358</td>\n",
       "      <td>35608</td>\n",
       "      <td>365</td>\n",
       "      <td>34303</td>\n",
       "      <td>365</td>\n",
       "      <td>14306</td>\n",
       "      <td>183</td>\n",
       "      <td>205310.0</td>\n",
       "      <td>1880.0</td>\n",
       "    </tr>\n",
       "  </tbody>\n",
       "</table>\n",
       "</div>"
      ],
      "text/plain": [
       "   Unnamed: 0 Unnamed: 1 Unnamed: 2 Unnamed: 3 Unnamed: 4 Unnamed: 5  \\\n",
       "1   Ahmedabad      81780        263      36289        117      38555   \n",
       "5   Bengaluru      32196        286      37060        351      31712   \n",
       "9     Chennai      40940        276      46281        334      37738   \n",
       "11      Delhi     108414        365     110000        365      91395   \n",
       "15  Hyderabad      39010        272      41869        337      40214   \n",
       "\n",
       "   Unnamed: 6 Unnamed: 7 Unnamed: 8 Unnamed: 9 Unnamed: 10 Unnamed: 11  \\\n",
       "1          69     222148        357     181756         352       42604   \n",
       "5         364      31157        361      33435         365       14588   \n",
       "9         361      38504        365      37574         365       14686   \n",
       "11        356      90943        365      84718         365       33246   \n",
       "15        358      35608        365      34303         365       14306   \n",
       "\n",
       "   Unnamed: 12  Unnamed: 13  Unnamed: 14  \n",
       "1          176     603132.0       1334.0  \n",
       "5          183     180148.0       1910.0  \n",
       "9          183     215723.0       1884.0  \n",
       "11         183     518716.0       1999.0  \n",
       "15         183     205310.0       1880.0  "
      ]
     },
     "execution_count": 4,
     "metadata": {},
     "output_type": "execute_result"
    }
   ],
   "source": [
    "## Deleting missing values\n",
    "df = df.dropna()\n",
    "df.head()"
   ]
  },
  {
   "cell_type": "code",
   "execution_count": 5,
   "id": "0bab8f9b-b603-49ae-8922-777dccff2219",
   "metadata": {},
   "outputs": [
    {
     "data": {
      "text/html": [
       "<div>\n",
       "<style scoped>\n",
       "    .dataframe tbody tr th:only-of-type {\n",
       "        vertical-align: middle;\n",
       "    }\n",
       "\n",
       "    .dataframe tbody tr th {\n",
       "        vertical-align: top;\n",
       "    }\n",
       "\n",
       "    .dataframe thead th {\n",
       "        text-align: right;\n",
       "    }\n",
       "</style>\n",
       "<table border=\"1\" class=\"dataframe\">\n",
       "  <thead>\n",
       "    <tr style=\"text-align: right;\">\n",
       "      <th></th>\n",
       "      <th>Unnamed: 0</th>\n",
       "      <th>Unnamed: 1</th>\n",
       "      <th>Unnamed: 2</th>\n",
       "      <th>Unnamed: 3</th>\n",
       "      <th>Unnamed: 4</th>\n",
       "      <th>Unnamed: 5</th>\n",
       "      <th>Unnamed: 6</th>\n",
       "      <th>Unnamed: 7</th>\n",
       "      <th>Unnamed: 8</th>\n",
       "      <th>Unnamed: 9</th>\n",
       "      <th>Unnamed: 10</th>\n",
       "      <th>Unnamed: 11</th>\n",
       "      <th>Unnamed: 12</th>\n",
       "      <th>Unnamed: 13</th>\n",
       "      <th>Unnamed: 14</th>\n",
       "    </tr>\n",
       "  </thead>\n",
       "  <tbody>\n",
       "    <tr>\n",
       "      <th>1</th>\n",
       "      <td>Ahmedabad</td>\n",
       "      <td>81780</td>\n",
       "      <td>263</td>\n",
       "      <td>36289</td>\n",
       "      <td>117</td>\n",
       "      <td>38555</td>\n",
       "      <td>69</td>\n",
       "      <td>222148</td>\n",
       "      <td>357</td>\n",
       "      <td>181756</td>\n",
       "      <td>352</td>\n",
       "      <td>42604</td>\n",
       "      <td>176</td>\n",
       "      <td>603132.0</td>\n",
       "      <td>1334.0</td>\n",
       "    </tr>\n",
       "    <tr>\n",
       "      <th>5</th>\n",
       "      <td>Bengaluru</td>\n",
       "      <td>32196</td>\n",
       "      <td>286</td>\n",
       "      <td>37060</td>\n",
       "      <td>351</td>\n",
       "      <td>31712</td>\n",
       "      <td>364</td>\n",
       "      <td>31157</td>\n",
       "      <td>361</td>\n",
       "      <td>33435</td>\n",
       "      <td>365</td>\n",
       "      <td>14588</td>\n",
       "      <td>183</td>\n",
       "      <td>180148.0</td>\n",
       "      <td>1910.0</td>\n",
       "    </tr>\n",
       "    <tr>\n",
       "      <th>9</th>\n",
       "      <td>Chennai</td>\n",
       "      <td>40940</td>\n",
       "      <td>276</td>\n",
       "      <td>46281</td>\n",
       "      <td>334</td>\n",
       "      <td>37738</td>\n",
       "      <td>361</td>\n",
       "      <td>38504</td>\n",
       "      <td>365</td>\n",
       "      <td>37574</td>\n",
       "      <td>365</td>\n",
       "      <td>14686</td>\n",
       "      <td>183</td>\n",
       "      <td>215723.0</td>\n",
       "      <td>1884.0</td>\n",
       "    </tr>\n",
       "    <tr>\n",
       "      <th>11</th>\n",
       "      <td>Delhi</td>\n",
       "      <td>108414</td>\n",
       "      <td>365</td>\n",
       "      <td>110000</td>\n",
       "      <td>365</td>\n",
       "      <td>91395</td>\n",
       "      <td>356</td>\n",
       "      <td>90943</td>\n",
       "      <td>365</td>\n",
       "      <td>84718</td>\n",
       "      <td>365</td>\n",
       "      <td>33246</td>\n",
       "      <td>183</td>\n",
       "      <td>518716.0</td>\n",
       "      <td>1999.0</td>\n",
       "    </tr>\n",
       "    <tr>\n",
       "      <th>15</th>\n",
       "      <td>Hyderabad</td>\n",
       "      <td>39010</td>\n",
       "      <td>272</td>\n",
       "      <td>41869</td>\n",
       "      <td>337</td>\n",
       "      <td>40214</td>\n",
       "      <td>358</td>\n",
       "      <td>35608</td>\n",
       "      <td>365</td>\n",
       "      <td>34303</td>\n",
       "      <td>365</td>\n",
       "      <td>14306</td>\n",
       "      <td>183</td>\n",
       "      <td>205310.0</td>\n",
       "      <td>1880.0</td>\n",
       "    </tr>\n",
       "  </tbody>\n",
       "</table>\n",
       "</div>"
      ],
      "text/plain": [
       "   Unnamed: 0 Unnamed: 1 Unnamed: 2 Unnamed: 3 Unnamed: 4 Unnamed: 5  \\\n",
       "1   Ahmedabad      81780        263      36289        117      38555   \n",
       "5   Bengaluru      32196        286      37060        351      31712   \n",
       "9     Chennai      40940        276      46281        334      37738   \n",
       "11      Delhi     108414        365     110000        365      91395   \n",
       "15  Hyderabad      39010        272      41869        337      40214   \n",
       "\n",
       "   Unnamed: 6 Unnamed: 7 Unnamed: 8 Unnamed: 9 Unnamed: 10 Unnamed: 11  \\\n",
       "1          69     222148        357     181756         352       42604   \n",
       "5         364      31157        361      33435         365       14588   \n",
       "9         361      38504        365      37574         365       14686   \n",
       "11        356      90943        365      84718         365       33246   \n",
       "15        358      35608        365      34303         365       14306   \n",
       "\n",
       "   Unnamed: 12  Unnamed: 13  Unnamed: 14  \n",
       "1          176     603132.0       1334.0  \n",
       "5          183     180148.0       1910.0  \n",
       "9          183     215723.0       1884.0  \n",
       "11         183     518716.0       1999.0  \n",
       "15         183     205310.0       1880.0  "
      ]
     },
     "execution_count": 5,
     "metadata": {},
     "output_type": "execute_result"
    }
   ],
   "source": [
    "## Deleting missing values\n",
    "df = df.dropna()\n",
    "df.head()"
   ]
  },
  {
   "cell_type": "code",
   "execution_count": 6,
   "id": "53d9e312-af2f-41ed-9a24-964466232246",
   "metadata": {},
   "outputs": [
    {
     "name": "stdout",
     "output_type": "stream",
     "text": [
      "=== Dataset Info ===\n",
      "<class 'pandas.core.frame.DataFrame'>\n",
      "Index: 8 entries, 1 to 27\n",
      "Data columns (total 15 columns):\n",
      " #   Column       Non-Null Count  Dtype  \n",
      "---  ------       --------------  -----  \n",
      " 0   Unnamed: 0   8 non-null      object \n",
      " 1   Unnamed: 1   8 non-null      object \n",
      " 2   Unnamed: 2   8 non-null      object \n",
      " 3   Unnamed: 3   8 non-null      object \n",
      " 4   Unnamed: 4   8 non-null      object \n",
      " 5   Unnamed: 5   8 non-null      object \n",
      " 6   Unnamed: 6   8 non-null      object \n",
      " 7   Unnamed: 7   8 non-null      object \n",
      " 8   Unnamed: 8   8 non-null      object \n",
      " 9   Unnamed: 9   8 non-null      object \n",
      " 10  Unnamed: 10  8 non-null      object \n",
      " 11  Unnamed: 11  8 non-null      object \n",
      " 12  Unnamed: 12  8 non-null      object \n",
      " 13  Unnamed: 13  8 non-null      float64\n",
      " 14  Unnamed: 14  8 non-null      float64\n",
      "dtypes: float64(2), object(13)\n",
      "memory usage: 1.0+ KB\n",
      "\n",
      "=== Statistical Summary ===\n",
      "        Unnamed: 13   Unnamed: 14\n",
      "count  8.000000e+00      8.000000\n",
      "mean   8.279466e+05   4651.125000\n",
      "std    1.345644e+06   8165.068742\n",
      "min    1.801480e+05   1334.000000\n",
      "25%    2.131198e+05   1774.750000\n",
      "50%    3.819620e+05   1888.500000\n",
      "75%    5.398200e+05   1932.250000\n",
      "max    4.136620e+06  24850.000000\n",
      "\n",
      "=== Missing Values ===\n",
      "Unnamed: 0     0\n",
      "Unnamed: 1     0\n",
      "Unnamed: 2     0\n",
      "Unnamed: 3     0\n",
      "Unnamed: 4     0\n",
      "Unnamed: 5     0\n",
      "Unnamed: 6     0\n",
      "Unnamed: 7     0\n",
      "Unnamed: 8     0\n",
      "Unnamed: 9     0\n",
      "Unnamed: 10    0\n",
      "Unnamed: 11    0\n",
      "Unnamed: 12    0\n",
      "Unnamed: 13    0\n",
      "Unnamed: 14    0\n",
      "dtype: int64\n"
     ]
    }
   ],
   "source": [
    "## basic info\n",
    "print(\"=== Dataset Info ===\")\n",
    "df.info()\n",
    "print(\"\\n=== Statistical Summary ===\")\n",
    "print(df.describe())\n",
    "print(\"\\n=== Missing Values ===\")\n",
    "print(df.isnull().sum())"
   ]
  },
  {
   "cell_type": "code",
   "execution_count": 7,
   "id": "e7dcadfb-4841-4004-9518-f633438d1dc9",
   "metadata": {},
   "outputs": [
    {
     "name": "stdout",
     "output_type": "stream",
     "text": [
      "           0              1                    2           3   \\\n",
      "0         NaN            NaN                  NaN         NaN   \n",
      "1         NaN            NaN                  NaN         NaN   \n",
      "2         NaN  Column Labels                  NaN         NaN   \n",
      "3         NaN           2015                  NaN        2016   \n",
      "4         NaN            NaN                  NaN         NaN   \n",
      "5         NaN            NaN                  NaN         NaN   \n",
      "6         NaN            NaN                  NaN         NaN   \n",
      "7         NaN            NaN                  NaN         NaN   \n",
      "8  Row Labels     Sum of AQI  Count of AQI_Bucket  Sum of AQI   \n",
      "9   Ahmedabad          81780                  263       36289   \n",
      "\n",
      "                       4           5                    6           7   \\\n",
      "0                     NaN         NaN                  NaN         NaN   \n",
      "1   AIR POLLUTION DATASET         NaN                  NaN         NaN   \n",
      "2                     NaN         NaN                  NaN         NaN   \n",
      "3                     NaN        2017                  NaN        2018   \n",
      "4                     NaN         NaN                  NaN         NaN   \n",
      "5                     NaN         NaN                  NaN         NaN   \n",
      "6                     NaN         NaN                  NaN         NaN   \n",
      "7                     NaN         NaN                  NaN         NaN   \n",
      "8     Count of AQI_Bucket  Sum of AQI  Count of AQI_Bucket  Sum of AQI   \n",
      "9                     117       38555                   69      222148   \n",
      "\n",
      "                    8           9                    10          11  \\\n",
      "0                  NaN         NaN                  NaN         NaN   \n",
      "1                  NaN         NaN                  NaN         NaN   \n",
      "2                  NaN         NaN                  NaN         NaN   \n",
      "3                  NaN        2019                  NaN        2020   \n",
      "4                  NaN         NaN                  NaN         NaN   \n",
      "5                  NaN         NaN                  NaN         NaN   \n",
      "6                  NaN         NaN                  NaN         NaN   \n",
      "7                  NaN         NaN                  NaN         NaN   \n",
      "8  Count of AQI_Bucket  Sum of AQI  Count of AQI_Bucket  Sum of AQI   \n",
      "9                  357      181756                  352       42604   \n",
      "\n",
      "                    12                13                         14  \n",
      "0                  NaN               NaN                        NaN  \n",
      "1                  NaN               NaN                        NaN  \n",
      "2                  NaN               NaN                        NaN  \n",
      "3                  NaN  Total Sum of AQI  Total Count of AQI_Bucket  \n",
      "4                  NaN               NaN                        NaN  \n",
      "5                  NaN               NaN                        NaN  \n",
      "6                  NaN               NaN                        NaN  \n",
      "7                  NaN               NaN                        NaN  \n",
      "8  Count of AQI_Bucket               NaN                        NaN  \n",
      "9                  176            603132                       1334  \n"
     ]
    }
   ],
   "source": [
    "import pandas as pd\n",
    "df = pd.read_excel(r\"C:\\Users\\HP\\OneDrive\\air_pollution.xlsx\", header=None)\n",
    "print(df.head(10))"
   ]
  },
  {
   "cell_type": "code",
   "execution_count": 8,
   "id": "8b81a12d-ec00-4680-9414-a18a13c6e736",
   "metadata": {},
   "outputs": [
    {
     "name": "stdout",
     "output_type": "stream",
     "text": [
      "     Unnamed: 0  Unnamed: 1           Unnamed: 2  Unnamed: 3  \\\n",
      "0    Row Labels  Sum of AQI  Count of AQI_Bucket  Sum of AQI   \n",
      "1     Ahmedabad       81780                  263       36289   \n",
      "2        Aizawl         NaN                  NaN         NaN   \n",
      "3     Amaravati         NaN                  NaN         NaN   \n",
      "4      Amritsar         NaN                  NaN         NaN   \n",
      "5     Bengaluru       32196                  286       37060   \n",
      "6        Bhopal         NaN                  NaN         NaN   \n",
      "7  Brajrajnagar         NaN                  NaN         NaN   \n",
      "8    Chandigarh         NaN                  NaN         NaN   \n",
      "9       Chennai       40940                  276       46281   \n",
      "\n",
      "            Unnamed: 4  Unnamed: 5           Unnamed: 6  Unnamed: 7  \\\n",
      "0  Count of AQI_Bucket  Sum of AQI  Count of AQI_Bucket  Sum of AQI   \n",
      "1                  117       38555                   69      222148   \n",
      "2                  NaN         NaN                  NaN         NaN   \n",
      "3                  NaN        7123                   37       31634   \n",
      "4                  NaN       39386                  266       39828   \n",
      "5                  351       31712                  364       31157   \n",
      "6                  NaN         NaN                  NaN         NaN   \n",
      "7                  NaN        2476                   10       40299   \n",
      "8                  NaN         NaN                  NaN         NaN   \n",
      "9                  334       37738                  361       38504   \n",
      "\n",
      "            Unnamed: 8  Unnamed: 9          Unnamed: 10 Unnamed: 11  \\\n",
      "0  Count of AQI_Bucket  Sum of AQI  Count of AQI_Bucket  Sum of AQI   \n",
      "1                  357      181756                  352       42604   \n",
      "2                  NaN         NaN                  NaN        3859   \n",
      "3                  312       30432                  309       10958   \n",
      "4                  324       39639                  362       16178   \n",
      "5                  361       33435                  365       14588   \n",
      "6                  NaN       17074                  105       19852   \n",
      "7                  260       47785                  322       16590   \n",
      "8                  NaN       15859                  117       12994   \n",
      "9                  365       37574                  365       14686   \n",
      "\n",
      "           Unnamed: 12  Unnamed: 13  Unnamed: 14  \n",
      "0  Count of AQI_Bucket          NaN          NaN  \n",
      "1                  176     603132.0       1334.0  \n",
      "2                  111       3859.0        111.0  \n",
      "3                  183      80147.0        841.0  \n",
      "4                  174     135031.0       1126.0  \n",
      "5                  183     180148.0       1910.0  \n",
      "6                  173      36926.0        278.0  \n",
      "7                  121     107150.0        713.0  \n",
      "8                  182      28853.0        299.0  \n",
      "9                  183     215723.0       1884.0  \n"
     ]
    }
   ],
   "source": [
    "import pandas as pd\n",
    "df = pd.read_excel(r\"C:\\Users\\HP\\OneDrive\\air_pollution.xlsx\", skiprows=7)\n",
    "print(df.head(10))"
   ]
  },
  {
   "cell_type": "code",
   "execution_count": 9,
   "id": "bd061475-2801-4fda-8072-2a3bb7d6c9ce",
   "metadata": {},
   "outputs": [],
   "source": [
    "df = df.dropna(axis=1, how='all')   # remove empty columns"
   ]
  },
  {
   "cell_type": "code",
   "execution_count": 10,
   "id": "7d121b4b-f2ce-4cb4-8857-451a84be80e8",
   "metadata": {},
   "outputs": [],
   "source": [
    "df = df.dropna(how='all')"
   ]
  },
  {
   "cell_type": "code",
   "execution_count": 11,
   "id": "fddcb625-6b39-4bbf-b8d1-a31e6b3cebac",
   "metadata": {},
   "outputs": [],
   "source": [
    "df = df.rename(columns={\n",
    "    \"City\": \"2015\",\n",
    "    \"2016\": \"2017\",\n",
    "    \"2018\": \"2020\"\n",
    "})"
   ]
  },
  {
   "cell_type": "code",
   "execution_count": 12,
   "id": "41358a97-e46a-4927-b40b-cdd58f167e1a",
   "metadata": {},
   "outputs": [
    {
     "name": "stdout",
     "output_type": "stream",
     "text": [
      "  AIR POLLUTION DATASET\n",
      "0   Count of AQI_Bucket\n",
      "1                   117\n",
      "2                   351\n",
      "3                   334\n",
      "4                   365\n",
      "5                   237\n",
      "6                   337\n",
      "7                   334\n",
      "8                   331\n",
      "9                   167\n"
     ]
    }
   ],
   "source": [
    "import pandas as pd\n",
    "df = pd.read_excel(r\"C:\\Users\\HP\\OneDrive\\air_pollution.xlsx\", skiprows=1)\n",
    "df = df.loc[:, ~df.columns.str.contains('^Unnamed')]\n",
    "df = df.dropna(how='all')\n",
    "df = df.reset_index(drop=True)\n",
    "print(df.head(10))"
   ]
  },
  {
   "cell_type": "code",
   "execution_count": 13,
   "id": "86b3bd98-32e8-4c29-8df0-795fb475d6f1",
   "metadata": {},
   "outputs": [],
   "source": [
    "## importing necessary libraries\n",
    "import pandas as pd\n",
    "import numpy as np\n",
    "import matplotlib.pyplot as plt\n",
    "import seaborn as sns\n",
    "from sklearn.model_selection import GridSearchCV, cross_val_score\n",
    "from sklearn.preprocessing import LabelEncoder , StandardScaler\n",
    "from sklearn.ensemble import RandomForestClassifier\n",
    "from sklearn.linear_model import LinearRegression\n",
    "from sklearn.metrics import accuracy_score, classification_report,confusion_matrix\n",
    "from sklearn.model_selection import cross_val_score\n",
    "import joblib"
   ]
  },
  {
   "cell_type": "code",
   "execution_count": 14,
   "id": "14424e60-af20-403e-b85a-6018cb7cb7ab",
   "metadata": {},
   "outputs": [
    {
     "data": {
      "text/html": [
       "<div>\n",
       "<style scoped>\n",
       "    .dataframe tbody tr th:only-of-type {\n",
       "        vertical-align: middle;\n",
       "    }\n",
       "\n",
       "    .dataframe tbody tr th {\n",
       "        vertical-align: top;\n",
       "    }\n",
       "\n",
       "    .dataframe thead th {\n",
       "        text-align: right;\n",
       "    }\n",
       "</style>\n",
       "<table border=\"1\" class=\"dataframe\">\n",
       "  <thead>\n",
       "    <tr style=\"text-align: right;\">\n",
       "      <th></th>\n",
       "      <th>Unnamed: 0</th>\n",
       "      <th>Unnamed: 1</th>\n",
       "      <th>Unnamed: 2</th>\n",
       "      <th>Unnamed: 3</th>\n",
       "      <th>Unnamed: 4</th>\n",
       "      <th>Unnamed: 5</th>\n",
       "      <th>Unnamed: 6</th>\n",
       "      <th>Unnamed: 7</th>\n",
       "      <th>Unnamed: 8</th>\n",
       "      <th>Unnamed: 9</th>\n",
       "      <th>Unnamed: 10</th>\n",
       "      <th>Unnamed: 11</th>\n",
       "      <th>Unnamed: 12</th>\n",
       "      <th>Unnamed: 13</th>\n",
       "      <th>Unnamed: 14</th>\n",
       "    </tr>\n",
       "  </thead>\n",
       "  <tbody>\n",
       "    <tr>\n",
       "      <th>0</th>\n",
       "      <td>Row Labels</td>\n",
       "      <td>Sum of AQI</td>\n",
       "      <td>Count of AQI_Bucket</td>\n",
       "      <td>Sum of AQI</td>\n",
       "      <td>Count of AQI_Bucket</td>\n",
       "      <td>Sum of AQI</td>\n",
       "      <td>Count of AQI_Bucket</td>\n",
       "      <td>Sum of AQI</td>\n",
       "      <td>Count of AQI_Bucket</td>\n",
       "      <td>Sum of AQI</td>\n",
       "      <td>Count of AQI_Bucket</td>\n",
       "      <td>Sum of AQI</td>\n",
       "      <td>Count of AQI_Bucket</td>\n",
       "      <td>NaN</td>\n",
       "      <td>NaN</td>\n",
       "    </tr>\n",
       "    <tr>\n",
       "      <th>1</th>\n",
       "      <td>Ahmedabad</td>\n",
       "      <td>81780</td>\n",
       "      <td>263</td>\n",
       "      <td>36289</td>\n",
       "      <td>117</td>\n",
       "      <td>38555</td>\n",
       "      <td>69</td>\n",
       "      <td>222148</td>\n",
       "      <td>357</td>\n",
       "      <td>181756</td>\n",
       "      <td>352</td>\n",
       "      <td>42604</td>\n",
       "      <td>176</td>\n",
       "      <td>603132.0</td>\n",
       "      <td>1334.0</td>\n",
       "    </tr>\n",
       "    <tr>\n",
       "      <th>2</th>\n",
       "      <td>Aizawl</td>\n",
       "      <td>NaN</td>\n",
       "      <td>NaN</td>\n",
       "      <td>NaN</td>\n",
       "      <td>NaN</td>\n",
       "      <td>NaN</td>\n",
       "      <td>NaN</td>\n",
       "      <td>NaN</td>\n",
       "      <td>NaN</td>\n",
       "      <td>NaN</td>\n",
       "      <td>NaN</td>\n",
       "      <td>3859</td>\n",
       "      <td>111</td>\n",
       "      <td>3859.0</td>\n",
       "      <td>111.0</td>\n",
       "    </tr>\n",
       "    <tr>\n",
       "      <th>3</th>\n",
       "      <td>Amaravati</td>\n",
       "      <td>NaN</td>\n",
       "      <td>NaN</td>\n",
       "      <td>NaN</td>\n",
       "      <td>NaN</td>\n",
       "      <td>7123</td>\n",
       "      <td>37</td>\n",
       "      <td>31634</td>\n",
       "      <td>312</td>\n",
       "      <td>30432</td>\n",
       "      <td>309</td>\n",
       "      <td>10958</td>\n",
       "      <td>183</td>\n",
       "      <td>80147.0</td>\n",
       "      <td>841.0</td>\n",
       "    </tr>\n",
       "    <tr>\n",
       "      <th>4</th>\n",
       "      <td>Amritsar</td>\n",
       "      <td>NaN</td>\n",
       "      <td>NaN</td>\n",
       "      <td>NaN</td>\n",
       "      <td>NaN</td>\n",
       "      <td>39386</td>\n",
       "      <td>266</td>\n",
       "      <td>39828</td>\n",
       "      <td>324</td>\n",
       "      <td>39639</td>\n",
       "      <td>362</td>\n",
       "      <td>16178</td>\n",
       "      <td>174</td>\n",
       "      <td>135031.0</td>\n",
       "      <td>1126.0</td>\n",
       "    </tr>\n",
       "  </tbody>\n",
       "</table>\n",
       "</div>"
      ],
      "text/plain": [
       "   Unnamed: 0  Unnamed: 1           Unnamed: 2  Unnamed: 3  \\\n",
       "0  Row Labels  Sum of AQI  Count of AQI_Bucket  Sum of AQI   \n",
       "1   Ahmedabad       81780                  263       36289   \n",
       "2      Aizawl         NaN                  NaN         NaN   \n",
       "3   Amaravati         NaN                  NaN         NaN   \n",
       "4    Amritsar         NaN                  NaN         NaN   \n",
       "\n",
       "            Unnamed: 4  Unnamed: 5           Unnamed: 6  Unnamed: 7  \\\n",
       "0  Count of AQI_Bucket  Sum of AQI  Count of AQI_Bucket  Sum of AQI   \n",
       "1                  117       38555                   69      222148   \n",
       "2                  NaN         NaN                  NaN         NaN   \n",
       "3                  NaN        7123                   37       31634   \n",
       "4                  NaN       39386                  266       39828   \n",
       "\n",
       "            Unnamed: 8  Unnamed: 9          Unnamed: 10 Unnamed: 11  \\\n",
       "0  Count of AQI_Bucket  Sum of AQI  Count of AQI_Bucket  Sum of AQI   \n",
       "1                  357      181756                  352       42604   \n",
       "2                  NaN         NaN                  NaN        3859   \n",
       "3                  312       30432                  309       10958   \n",
       "4                  324       39639                  362       16178   \n",
       "\n",
       "           Unnamed: 12  Unnamed: 13  Unnamed: 14  \n",
       "0  Count of AQI_Bucket          NaN          NaN  \n",
       "1                  176     603132.0       1334.0  \n",
       "2                  111       3859.0        111.0  \n",
       "3                  183      80147.0        841.0  \n",
       "4                  174     135031.0       1126.0  "
      ]
     },
     "execution_count": 14,
     "metadata": {},
     "output_type": "execute_result"
    }
   ],
   "source": [
    "## Load the dataset\n",
    "import pandas as pd\n",
    "df = pd.read_excel(r\"C:\\Users\\HP\\OneDrive\\Documents\\AICTE\\air_pollution.xlsx\" , skiprows=7)\n",
    "df.head()"
   ]
  },
  {
   "cell_type": "code",
   "execution_count": 15,
   "id": "0e73e435-4e02-4e62-ad4f-a04d6cd36a8f",
   "metadata": {},
   "outputs": [],
   "source": [
    "df = df.dropna(how=\"all\", axis=1)   # remove empty columns\n",
    "df = df.dropna(how=\"all\", axis=0)   # remove empty rows"
   ]
  },
  {
   "cell_type": "code",
   "execution_count": 16,
   "id": "6670be66-4dfc-4e43-b108-664d4ba406d0",
   "metadata": {},
   "outputs": [
    {
     "name": "stdout",
     "output_type": "stream",
     "text": [
      "['Unnamed: 0', 'Unnamed: 1', 'Unnamed: 2', 'Unnamed: 3', 'Unnamed: 4', 'Unnamed: 5', 'Unnamed: 6', 'Unnamed: 7', 'Unnamed: 8', 'Unnamed: 9', 'Unnamed: 10', 'Unnamed: 11', 'Unnamed: 12', 'Unnamed: 13', 'Unnamed: 14']\n",
      "15\n"
     ]
    }
   ],
   "source": [
    "print(df.columns.tolist())\n",
    "print(len(df.columns))"
   ]
  },
  {
   "cell_type": "code",
   "execution_count": 17,
   "id": "1a70a5fd-76c2-4770-8282-064565d8735f",
   "metadata": {},
   "outputs": [],
   "source": [
    "df = df.loc[:, ~df.columns.str.contains(\"Unnamed\")]"
   ]
  },
  {
   "cell_type": "code",
   "execution_count": 18,
   "id": "fb64b3cf-5d19-4d01-b049-c3f352c60800",
   "metadata": {},
   "outputs": [
    {
     "name": "stdout",
     "output_type": "stream",
     "text": [
      "[]\n"
     ]
    }
   ],
   "source": [
    "print(df.columns.tolist())"
   ]
  },
  {
   "cell_type": "code",
   "execution_count": 19,
   "id": "a2527a62-ea93-4b65-a51c-cef828f0bf5c",
   "metadata": {},
   "outputs": [],
   "source": [
    "import pandas as pd\n",
    "df = pd.read_excel(r\"C:\\Users\\HP\\OneDrive\\Documents\\AICTE\\air_pollution.xlsx\",header=7)"
   ]
  },
  {
   "cell_type": "code",
   "execution_count": 20,
   "id": "b92c0312-5606-4da3-8896-51579c90aeb3",
   "metadata": {},
   "outputs": [],
   "source": [
    "df = df.iloc[:, :8]   # keep only first 8 columns"
   ]
  },
  {
   "cell_type": "code",
   "execution_count": 21,
   "id": "91de9d4e-3e41-4220-b52b-3f8c0787c198",
   "metadata": {},
   "outputs": [],
   "source": [
    "df.columns = [\"City\", \"2015\", \"2016\", \"2017\", \"2018\", \"2019\", \"2020\", \"2021\"]  # example"
   ]
  },
  {
   "cell_type": "code",
   "execution_count": 22,
   "id": "21a35a8e-c52f-48a3-aeeb-99f6f1f2c369",
   "metadata": {},
   "outputs": [],
   "source": [
    "df = df.dropna(how=\"all\")   # remove completely empty rows"
   ]
  },
  {
   "cell_type": "code",
   "execution_count": 23,
   "id": "ac6f2167-89e7-46d6-aa9d-50f4c39360f8",
   "metadata": {},
   "outputs": [
    {
     "name": "stdout",
     "output_type": "stream",
     "text": [
      "         City        2015                 2016        2017  \\\n",
      "0  Row Labels  Sum of AQI  Count of AQI_Bucket  Sum of AQI   \n",
      "1   Ahmedabad       81780                  263       36289   \n",
      "2      Aizawl         NaN                  NaN         NaN   \n",
      "3   Amaravati         NaN                  NaN         NaN   \n",
      "4    Amritsar         NaN                  NaN         NaN   \n",
      "\n",
      "                  2018        2019                 2020        2021  \n",
      "0  Count of AQI_Bucket  Sum of AQI  Count of AQI_Bucket  Sum of AQI  \n",
      "1                  117       38555                   69      222148  \n",
      "2                  NaN         NaN                  NaN         NaN  \n",
      "3                  NaN        7123                   37       31634  \n",
      "4                  NaN       39386                  266       39828  \n",
      "(28, 8)\n"
     ]
    }
   ],
   "source": [
    "print(df.head())\n",
    "print(df.shape)   # should show (rows, 8 columns)"
   ]
  },
  {
   "cell_type": "code",
   "execution_count": 24,
   "id": "8e3a7912-2914-4f34-8dfc-c559fec4dcd4",
   "metadata": {},
   "outputs": [
    {
     "data": {
      "text/html": [
       "<div>\n",
       "<style scoped>\n",
       "    .dataframe tbody tr th:only-of-type {\n",
       "        vertical-align: middle;\n",
       "    }\n",
       "\n",
       "    .dataframe tbody tr th {\n",
       "        vertical-align: top;\n",
       "    }\n",
       "\n",
       "    .dataframe thead th {\n",
       "        text-align: right;\n",
       "    }\n",
       "</style>\n",
       "<table border=\"1\" class=\"dataframe\">\n",
       "  <thead>\n",
       "    <tr style=\"text-align: right;\">\n",
       "      <th></th>\n",
       "      <th>City</th>\n",
       "      <th>2015</th>\n",
       "      <th>2016</th>\n",
       "      <th>2017</th>\n",
       "      <th>2018</th>\n",
       "      <th>2019</th>\n",
       "      <th>2020</th>\n",
       "      <th>2021</th>\n",
       "    </tr>\n",
       "  </thead>\n",
       "  <tbody>\n",
       "    <tr>\n",
       "      <th>0</th>\n",
       "      <td>Row Labels</td>\n",
       "      <td>Sum of AQI</td>\n",
       "      <td>Count of AQI_Bucket</td>\n",
       "      <td>Sum of AQI</td>\n",
       "      <td>Count of AQI_Bucket</td>\n",
       "      <td>Sum of AQI</td>\n",
       "      <td>Count of AQI_Bucket</td>\n",
       "      <td>Sum of AQI</td>\n",
       "    </tr>\n",
       "    <tr>\n",
       "      <th>1</th>\n",
       "      <td>Ahmedabad</td>\n",
       "      <td>81780</td>\n",
       "      <td>263</td>\n",
       "      <td>36289</td>\n",
       "      <td>117</td>\n",
       "      <td>38555</td>\n",
       "      <td>69</td>\n",
       "      <td>222148</td>\n",
       "    </tr>\n",
       "    <tr>\n",
       "      <th>2</th>\n",
       "      <td>Aizawl</td>\n",
       "      <td>NaN</td>\n",
       "      <td>NaN</td>\n",
       "      <td>NaN</td>\n",
       "      <td>NaN</td>\n",
       "      <td>NaN</td>\n",
       "      <td>NaN</td>\n",
       "      <td>NaN</td>\n",
       "    </tr>\n",
       "    <tr>\n",
       "      <th>3</th>\n",
       "      <td>Amaravati</td>\n",
       "      <td>NaN</td>\n",
       "      <td>NaN</td>\n",
       "      <td>NaN</td>\n",
       "      <td>NaN</td>\n",
       "      <td>7123</td>\n",
       "      <td>37</td>\n",
       "      <td>31634</td>\n",
       "    </tr>\n",
       "    <tr>\n",
       "      <th>4</th>\n",
       "      <td>Amritsar</td>\n",
       "      <td>NaN</td>\n",
       "      <td>NaN</td>\n",
       "      <td>NaN</td>\n",
       "      <td>NaN</td>\n",
       "      <td>39386</td>\n",
       "      <td>266</td>\n",
       "      <td>39828</td>\n",
       "    </tr>\n",
       "  </tbody>\n",
       "</table>\n",
       "</div>"
      ],
      "text/plain": [
       "         City        2015                 2016        2017  \\\n",
       "0  Row Labels  Sum of AQI  Count of AQI_Bucket  Sum of AQI   \n",
       "1   Ahmedabad       81780                  263       36289   \n",
       "2      Aizawl         NaN                  NaN         NaN   \n",
       "3   Amaravati         NaN                  NaN         NaN   \n",
       "4    Amritsar         NaN                  NaN         NaN   \n",
       "\n",
       "                  2018        2019                 2020        2021  \n",
       "0  Count of AQI_Bucket  Sum of AQI  Count of AQI_Bucket  Sum of AQI  \n",
       "1                  117       38555                   69      222148  \n",
       "2                  NaN         NaN                  NaN         NaN  \n",
       "3                  NaN        7123                   37       31634  \n",
       "4                  NaN       39386                  266       39828  "
      ]
     },
     "execution_count": 24,
     "metadata": {},
     "output_type": "execute_result"
    }
   ],
   "source": [
    "df.head()"
   ]
  },
  {
   "cell_type": "code",
   "execution_count": 25,
   "id": "c567f769-948e-4122-bd28-9f67902cfd37",
   "metadata": {},
   "outputs": [
    {
     "name": "stdout",
     "output_type": "stream",
     "text": [
      "8 Row Labels Sum of AQI Count of AQI_Bucket Sum of AQI Count of AQI_Bucket  \\\n",
      "0  Ahmedabad      81780                 263      36289                 117   \n",
      "1     Aizawl        NaN                 NaN        NaN                 NaN   \n",
      "2  Amaravati        NaN                 NaN        NaN                 NaN   \n",
      "3   Amritsar        NaN                 NaN        NaN                 NaN   \n",
      "4  Bengaluru      32196                 286      37060                 351   \n",
      "\n",
      "8 Sum of AQI Count of AQI_Bucket  \n",
      "0      38555                  69  \n",
      "1        NaN                 NaN  \n",
      "2       7123                  37  \n",
      "3      39386                 266  \n",
      "4      31712                 364  \n"
     ]
    }
   ],
   "source": [
    "import pandas as pd\n",
    "\n",
    "file_path = r\"C:\\Users\\HP\\OneDrive\\air_pollution.xlsx\"\n",
    "\n",
    "# Load Excel without headers first\n",
    "df = pd.read_excel(file_path, header=None)\n",
    "\n",
    "# Remove first 8 rows and last 8 columns\n",
    "df = df.iloc[8:, :-8]  # keep all rows from 9th row onward, remove last 8 columns\n",
    "\n",
    "# Reset column names using the first row (now row 0 after slicing)\n",
    "df.columns = df.iloc[0]\n",
    "df = df[1:]  # remove the row that is now used as header\n",
    "\n",
    "# Reset index\n",
    "df = df.reset_index(drop=True)\n",
    "\n",
    "# Preview the cleaned data\n",
    "print(df.head())"
   ]
  },
  {
   "cell_type": "code",
   "execution_count": 26,
   "id": "8e8dfb03-2cbc-42bf-a767-bffad5a75963",
   "metadata": {},
   "outputs": [
    {
     "data": {
      "text/html": [
       "<div>\n",
       "<style scoped>\n",
       "    .dataframe tbody tr th:only-of-type {\n",
       "        vertical-align: middle;\n",
       "    }\n",
       "\n",
       "    .dataframe tbody tr th {\n",
       "        vertical-align: top;\n",
       "    }\n",
       "\n",
       "    .dataframe thead th {\n",
       "        text-align: right;\n",
       "    }\n",
       "</style>\n",
       "<table border=\"1\" class=\"dataframe\">\n",
       "  <thead>\n",
       "    <tr style=\"text-align: right;\">\n",
       "      <th>8</th>\n",
       "      <th>Row Labels</th>\n",
       "      <th>Sum of AQI</th>\n",
       "      <th>Count of AQI_Bucket</th>\n",
       "      <th>Sum of AQI</th>\n",
       "      <th>Count of AQI_Bucket</th>\n",
       "      <th>Sum of AQI</th>\n",
       "      <th>Count of AQI_Bucket</th>\n",
       "    </tr>\n",
       "  </thead>\n",
       "  <tbody>\n",
       "    <tr>\n",
       "      <th>0</th>\n",
       "      <td>Ahmedabad</td>\n",
       "      <td>81780</td>\n",
       "      <td>263</td>\n",
       "      <td>36289</td>\n",
       "      <td>117</td>\n",
       "      <td>38555</td>\n",
       "      <td>69</td>\n",
       "    </tr>\n",
       "    <tr>\n",
       "      <th>1</th>\n",
       "      <td>Aizawl</td>\n",
       "      <td>NaN</td>\n",
       "      <td>NaN</td>\n",
       "      <td>NaN</td>\n",
       "      <td>NaN</td>\n",
       "      <td>NaN</td>\n",
       "      <td>NaN</td>\n",
       "    </tr>\n",
       "    <tr>\n",
       "      <th>2</th>\n",
       "      <td>Amaravati</td>\n",
       "      <td>NaN</td>\n",
       "      <td>NaN</td>\n",
       "      <td>NaN</td>\n",
       "      <td>NaN</td>\n",
       "      <td>7123</td>\n",
       "      <td>37</td>\n",
       "    </tr>\n",
       "    <tr>\n",
       "      <th>3</th>\n",
       "      <td>Amritsar</td>\n",
       "      <td>NaN</td>\n",
       "      <td>NaN</td>\n",
       "      <td>NaN</td>\n",
       "      <td>NaN</td>\n",
       "      <td>39386</td>\n",
       "      <td>266</td>\n",
       "    </tr>\n",
       "    <tr>\n",
       "      <th>4</th>\n",
       "      <td>Bengaluru</td>\n",
       "      <td>32196</td>\n",
       "      <td>286</td>\n",
       "      <td>37060</td>\n",
       "      <td>351</td>\n",
       "      <td>31712</td>\n",
       "      <td>364</td>\n",
       "    </tr>\n",
       "    <tr>\n",
       "      <th>5</th>\n",
       "      <td>Bhopal</td>\n",
       "      <td>NaN</td>\n",
       "      <td>NaN</td>\n",
       "      <td>NaN</td>\n",
       "      <td>NaN</td>\n",
       "      <td>NaN</td>\n",
       "      <td>NaN</td>\n",
       "    </tr>\n",
       "    <tr>\n",
       "      <th>6</th>\n",
       "      <td>Brajrajnagar</td>\n",
       "      <td>NaN</td>\n",
       "      <td>NaN</td>\n",
       "      <td>NaN</td>\n",
       "      <td>NaN</td>\n",
       "      <td>2476</td>\n",
       "      <td>10</td>\n",
       "    </tr>\n",
       "    <tr>\n",
       "      <th>7</th>\n",
       "      <td>Chandigarh</td>\n",
       "      <td>NaN</td>\n",
       "      <td>NaN</td>\n",
       "      <td>NaN</td>\n",
       "      <td>NaN</td>\n",
       "      <td>NaN</td>\n",
       "      <td>NaN</td>\n",
       "    </tr>\n",
       "    <tr>\n",
       "      <th>8</th>\n",
       "      <td>Chennai</td>\n",
       "      <td>40940</td>\n",
       "      <td>276</td>\n",
       "      <td>46281</td>\n",
       "      <td>334</td>\n",
       "      <td>37738</td>\n",
       "      <td>361</td>\n",
       "    </tr>\n",
       "    <tr>\n",
       "      <th>9</th>\n",
       "      <td>Coimbatore</td>\n",
       "      <td>NaN</td>\n",
       "      <td>NaN</td>\n",
       "      <td>NaN</td>\n",
       "      <td>NaN</td>\n",
       "      <td>NaN</td>\n",
       "      <td>NaN</td>\n",
       "    </tr>\n",
       "  </tbody>\n",
       "</table>\n",
       "</div>"
      ],
      "text/plain": [
       "8    Row Labels Sum of AQI Count of AQI_Bucket Sum of AQI Count of AQI_Bucket  \\\n",
       "0     Ahmedabad      81780                 263      36289                 117   \n",
       "1        Aizawl        NaN                 NaN        NaN                 NaN   \n",
       "2     Amaravati        NaN                 NaN        NaN                 NaN   \n",
       "3      Amritsar        NaN                 NaN        NaN                 NaN   \n",
       "4     Bengaluru      32196                 286      37060                 351   \n",
       "5        Bhopal        NaN                 NaN        NaN                 NaN   \n",
       "6  Brajrajnagar        NaN                 NaN        NaN                 NaN   \n",
       "7    Chandigarh        NaN                 NaN        NaN                 NaN   \n",
       "8       Chennai      40940                 276      46281                 334   \n",
       "9    Coimbatore        NaN                 NaN        NaN                 NaN   \n",
       "\n",
       "8 Sum of AQI Count of AQI_Bucket  \n",
       "0      38555                  69  \n",
       "1        NaN                 NaN  \n",
       "2       7123                  37  \n",
       "3      39386                 266  \n",
       "4      31712                 364  \n",
       "5        NaN                 NaN  \n",
       "6       2476                  10  \n",
       "7        NaN                 NaN  \n",
       "8      37738                 361  \n",
       "9        NaN                 NaN  "
      ]
     },
     "execution_count": 26,
     "metadata": {},
     "output_type": "execute_result"
    }
   ],
   "source": [
    "df.head(10)"
   ]
  },
  {
   "cell_type": "code",
   "execution_count": 27,
   "id": "7286dc51-ab38-46f6-8d64-9d4ea3f1bb6f",
   "metadata": {},
   "outputs": [
    {
     "name": "stdout",
     "output_type": "stream",
     "text": [
      "<class 'pandas.core.frame.DataFrame'>\n",
      "RangeIndex: 27 entries, 0 to 26\n",
      "Data columns (total 7 columns):\n",
      " #   Column               Non-Null Count  Dtype \n",
      "---  ------               --------------  ----- \n",
      " 0   Row Labels           27 non-null     object\n",
      " 1   Sum of AQI           8 non-null      object\n",
      " 2   Count of AQI_Bucket  8 non-null      object\n",
      " 3   Sum of AQI           10 non-null     object\n",
      " 4   Count of AQI_Bucket  10 non-null     object\n",
      " 5   Sum of AQI           16 non-null     object\n",
      " 6   Count of AQI_Bucket  16 non-null     object\n",
      "dtypes: object(7)\n",
      "memory usage: 1.6+ KB\n"
     ]
    }
   ],
   "source": [
    "## Explore and understand the data\n",
    "df.info()"
   ]
  },
  {
   "cell_type": "code",
   "execution_count": 28,
   "id": "4de70f58-c4aa-4857-8f4c-71c1fa8e8fad",
   "metadata": {},
   "outputs": [
    {
     "data": {
      "text/html": [
       "<div>\n",
       "<style scoped>\n",
       "    .dataframe tbody tr th:only-of-type {\n",
       "        vertical-align: middle;\n",
       "    }\n",
       "\n",
       "    .dataframe tbody tr th {\n",
       "        vertical-align: top;\n",
       "    }\n",
       "\n",
       "    .dataframe thead th {\n",
       "        text-align: right;\n",
       "    }\n",
       "</style>\n",
       "<table border=\"1\" class=\"dataframe\">\n",
       "  <thead>\n",
       "    <tr style=\"text-align: right;\">\n",
       "      <th>8</th>\n",
       "      <th>Row Labels</th>\n",
       "      <th>Sum of AQI</th>\n",
       "      <th>Count of AQI_Bucket</th>\n",
       "      <th>Sum of AQI</th>\n",
       "      <th>Count of AQI_Bucket</th>\n",
       "      <th>Sum of AQI</th>\n",
       "      <th>Count of AQI_Bucket</th>\n",
       "    </tr>\n",
       "  </thead>\n",
       "  <tbody>\n",
       "    <tr>\n",
       "      <th>count</th>\n",
       "      <td>27</td>\n",
       "      <td>8</td>\n",
       "      <td>8</td>\n",
       "      <td>10</td>\n",
       "      <td>10</td>\n",
       "      <td>16</td>\n",
       "      <td>16</td>\n",
       "    </tr>\n",
       "    <tr>\n",
       "      <th>unique</th>\n",
       "      <td>27</td>\n",
       "      <td>8</td>\n",
       "      <td>8</td>\n",
       "      <td>10</td>\n",
       "      <td>9</td>\n",
       "      <td>16</td>\n",
       "      <td>16</td>\n",
       "    </tr>\n",
       "    <tr>\n",
       "      <th>top</th>\n",
       "      <td>Ahmedabad</td>\n",
       "      <td>81780</td>\n",
       "      <td>263</td>\n",
       "      <td>36289</td>\n",
       "      <td>334</td>\n",
       "      <td>38555</td>\n",
       "      <td>69</td>\n",
       "    </tr>\n",
       "    <tr>\n",
       "      <th>freq</th>\n",
       "      <td>1</td>\n",
       "      <td>1</td>\n",
       "      <td>1</td>\n",
       "      <td>1</td>\n",
       "      <td>2</td>\n",
       "      <td>1</td>\n",
       "      <td>1</td>\n",
       "    </tr>\n",
       "  </tbody>\n",
       "</table>\n",
       "</div>"
      ],
      "text/plain": [
       "8      Row Labels  Sum of AQI  Count of AQI_Bucket  Sum of AQI  \\\n",
       "count          27           8                    8          10   \n",
       "unique         27           8                    8          10   \n",
       "top     Ahmedabad       81780                  263       36289   \n",
       "freq            1           1                    1           1   \n",
       "\n",
       "8       Count of AQI_Bucket  Sum of AQI  Count of AQI_Bucket  \n",
       "count                    10          16                   16  \n",
       "unique                    9          16                   16  \n",
       "top                     334       38555                   69  \n",
       "freq                      2           1                    1  "
      ]
     },
     "execution_count": 28,
     "metadata": {},
     "output_type": "execute_result"
    }
   ],
   "source": [
    "## Stastics of the dataset\n",
    "df.describe()"
   ]
  },
  {
   "cell_type": "code",
   "execution_count": 29,
   "id": "d1af1625-dc12-4ce3-96f9-fdd7670a2e89",
   "metadata": {},
   "outputs": [
    {
     "data": {
      "text/plain": [
       "8\n",
       "Row Labels              0\n",
       "Sum of AQI             19\n",
       "Count of AQI_Bucket    19\n",
       "Sum of AQI             17\n",
       "Count of AQI_Bucket    17\n",
       "Sum of AQI             11\n",
       "Count of AQI_Bucket    11\n",
       "dtype: int64"
      ]
     },
     "execution_count": 29,
     "metadata": {},
     "output_type": "execute_result"
    }
   ],
   "source": [
    "## Find the missing value \n",
    "df.isnull().sum()"
   ]
  },
  {
   "cell_type": "code",
   "execution_count": 30,
   "id": "4369a5e8-462e-41de-88e1-3e36692ca365",
   "metadata": {},
   "outputs": [
    {
     "data": {
      "text/plain": [
       "(27, 7)"
      ]
     },
     "execution_count": 30,
     "metadata": {},
     "output_type": "execute_result"
    }
   ],
   "source": [
    "# Rows and Cols\n",
    "df.shape"
   ]
  },
  {
   "cell_type": "code",
   "execution_count": 31,
   "id": "7facfeea-3eb2-4a19-a9c6-27339295532e",
   "metadata": {},
   "outputs": [
    {
     "data": {
      "text/plain": [
       "Index(['Row Labels', 'Sum of AQI', 'Count of AQI_Bucket', 'Sum of AQI',\n",
       "       'Count of AQI_Bucket', 'Sum of AQI', 'Count of AQI_Bucket'],\n",
       "      dtype='object', name=8)"
      ]
     },
     "execution_count": 31,
     "metadata": {},
     "output_type": "execute_result"
    }
   ],
   "source": [
    "df.columns"
   ]
  },
  {
   "cell_type": "code",
   "execution_count": 32,
   "id": "6c30c5d6-09ec-46e3-8804-390f97ecb759",
   "metadata": {},
   "outputs": [
    {
     "name": "stdout",
     "output_type": "stream",
     "text": [
      "        City   2015 2016   2017 2018   2019 2020\n",
      "0  Ahmedabad  81780  263  36289  117  38555   69\n",
      "1     Aizawl    NaN  NaN    NaN  NaN    NaN  NaN\n",
      "2  Amaravati    NaN  NaN    NaN  NaN   7123   37\n",
      "3   Amritsar    NaN  NaN    NaN  NaN  39386  266\n",
      "4  Bengaluru  32196  286  37060  351  31712  364\n"
     ]
    }
   ],
   "source": [
    "import pandas as pd\n",
    "\n",
    "file_path = r\"C:\\Users\\HP\\OneDrive\\air_pollution.xlsx\"\n",
    "\n",
    "# Load Excel without headers first\n",
    "df = pd.read_excel(file_path, header=None)\n",
    "\n",
    "# Remove first 8 rows and last 8 columns\n",
    "df = df.iloc[8:, :-8]  # skip first 8 rows, remove last 8 columns\n",
    "\n",
    "# Reset column names using the first row\n",
    "df.columns = ['City', '2015', '2016', '2017', '2018', '2019', '2020']\n",
    "\n",
    "# Remove the row used for column names if needed\n",
    "df = df[1:]  # only if the first row is still a duplicate of headers\n",
    "\n",
    "# Reset index\n",
    "df = df.reset_index(drop=True)\n",
    "\n",
    "# Preview the cleaned data\n",
    "print(df.head())"
   ]
  },
  {
   "cell_type": "code",
   "execution_count": 39,
   "id": "754a7599-aab9-43b2-9548-d14fa7895556",
   "metadata": {},
   "outputs": [],
   "source": [
    "df = df.dropna()"
   ]
  },
  {
   "cell_type": "code",
   "execution_count": 38,
   "id": "79c4460f-12d7-4526-a0fe-d50fb3e27bdf",
   "metadata": {},
   "outputs": [
    {
     "data": {
      "image/png": "[encoded data removed]",
      "text/plain": [
       "<Figure size 640x480 with 1 Axes>"
      ]
     },
     "metadata": {},
     "output_type": "display_data"
    }
   ],
   "source": []
  },
  {
   "cell_type": "code",
   "execution_count": 40,
   "id": "59f6c737-5695-4bf0-8509-2ed0bad1a4ee",
   "metadata": {},
   "outputs": [],
   "source": [
    "df = df.fillna(0)"
   ]
  },
  {
   "cell_type": "code",
   "execution_count": 41,
   "id": "96172ef5-0dbe-4eb7-908a-4a33bef9eeb2",
   "metadata": {},
   "outputs": [
    {
     "data": {
      "image/png": "[encoded data removed]",
      "text/plain": [
       "<Figure size 640x480 with 1 Axes>"
      ]
     },
     "metadata": {},
     "output_type": "display_data"
    }
   ],
   "source": [
    "## Univarate Analysis\n",
    "sns.countplot(x='2015' , data=df)\n",
    "plt.title(\"2015 Analysis\")\n",
    "plt.show()"
   ]
  },
  {
   "cell_type": "code",
   "execution_count": 42,
   "id": "7b8f18f2-c903-4bd3-888d-7bde17f52a3c",
   "metadata": {},
   "outputs": [
    {
     "data": {
      "image/png": "[encoded data removed]",
      "text/plain": [
       "<Figure size 600x300 with 3 Axes>"
      ]
     },
     "metadata": {},
     "output_type": "display_data"
    }
   ],
   "source": [
    "num_cols = ['2015' , '2016' , '2017']\n",
    "fig , axes = plt.subplots(1, 3, figsize=(6, 3))\n",
    "for ax, col in zip(axes, num_cols):\n",
    "    sns.histplot(df[col], kde=True, ax = ax)\n",
    "    ax.set_title(col)\n",
    "plt.tight_layout\n",
    "plt.show()"
   ]
  },
  {
   "cell_type": "code",
   "execution_count": 43,
   "id": "0adb5158-9c01-4f9a-b0b8-a65d2b6b87c8",
   "metadata": {},
   "outputs": [
    {
     "data": {
      "image/png": "[encoded data removed]",
      "text/plain": [
       "<Figure size 2000x600 with 3 Axes>"
      ]
     },
     "metadata": {},
     "output_type": "display_data"
    }
   ],
   "source": [
    "fig, axes = plt.subplots(1, 3, figsize=(20, 6))\n",
    "sns.boxplot(data=df, x='2015', y='2016', ax=axes[0]).set_title(\"2016 vs 2015\")\n",
    "sns.boxplot(data=df, x='2015', y='2017', ax=axes[1]).set_title(\"2015 vs 2017\")\n",
    "sns.boxplot(data=df, x='2015', y='2018', ax=axes[2]).set_title(\"2015 vs 2018\")\n",
    "plt.tight_layout()\n",
    "plt.show()"
   ]
  },
  {
   "cell_type": "code",
   "execution_count": 44,
   "id": "9a1ea756-c14c-4157-ae80-cd47e0b0c917",
   "metadata": {},
   "outputs": [
    {
     "data": {
      "image/png": "[encoded data removed]",
      "text/plain": [
       "<Figure size 500x300 with 2 Axes>"
      ]
     },
     "metadata": {},
     "output_type": "display_data"
    }
   ],
   "source": [
    "## Correlation matrix for numerical features\n",
    "plt.figure(figsize=(5,3))\n",
    "sns.heatmap(df[num_cols].corr(), annot=True, cmap='coolwarm')\n",
    "plt.title('Correlation Matrix')\n",
    "plt.show()"
   ]
  },
  {
   "cell_type": "code",
   "execution_count": 45,
   "id": "9185b675-8285-494f-b2ae-6d72dbeaa73a",
   "metadata": {},
   "outputs": [
    {
     "data": {
      "image/png": "[encoded data removed]",
      "text/plain": [
       "<Figure size 853.25x750 with 12 Axes>"
      ]
     },
     "metadata": {},
     "output_type": "display_data"
    }
   ],
   "source": [
    "# Pairplot for numerical features colored by Traffic Density\n",
    "sns.pairplot(df, vars=num_cols, hue='2015')\n",
    "plt.show()"
   ]
  },
  {
   "cell_type": "code",
   "execution_count": 46,
   "id": "141f21b3-8c61-46e4-b1a5-b936cab2b31c",
   "metadata": {},
   "outputs": [],
   "source": [
    "# Data Processing \n",
    "le = LabelEncoder()\n",
    "categorical_cols = ['City', '2015', '2016' ,'2017', '2018', '2019', '2020']\n",
    "for col in categorical_cols:\n",
    "    df[col] = le.fit_transform(df[col])"
   ]
  },
  {
   "cell_type": "code",
   "execution_count": 47,
   "id": "0e16cb25-c4be-490d-99e6-65ddb5c957ad",
   "metadata": {},
   "outputs": [],
   "source": [
    "# Convert boolean to int \n",
    "df['2016'] = df['2016'].astype(int)\n",
    "df['2017'] = df['2017'].astype(int)"
   ]
  },
  {
   "cell_type": "code",
   "execution_count": 48,
   "id": "171aa5fc-07b8-4914-a50c-01aa967d36af",
   "metadata": {},
   "outputs": [],
   "source": [
    "# feature and target selection\n",
    "x = df.drop('2015' , axis = 1)\n",
    "y = df['2015']"
   ]
  },
  {
   "cell_type": "code",
   "execution_count": 49,
   "id": "ef184323-be7c-4c31-b212-f81dff7779d7",
   "metadata": {},
   "outputs": [],
   "source": [
    "# Step 1: Define features (X) and target (y)\n",
    "X = df.drop('2015', axis=1)\n",
    "y = df['2015']\n",
    "\n",
    "# Step 2: Import and use train_test_split\n",
    "from sklearn.model_selection import train_test_split\n",
    "\n",
    "X_city, X_2015, y_city, y_2015 = train_test_split(X, y, test_size=0.2, random_state=42)"
   ]
  },
  {
   "cell_type": "code",
   "execution_count": 50,
   "id": "0c798577-9e84-47a6-95b0-0e1cbcffb85c",
   "metadata": {},
   "outputs": [
    {
     "data": {
      "text/plain": [
       "(21, 6)"
      ]
     },
     "execution_count": 50,
     "metadata": {},
     "output_type": "execute_result"
    }
   ],
   "source": [
    "X_city.shape"
   ]
  },
  {
   "cell_type": "code",
   "execution_count": 51,
   "id": "0abff798-5a57-4f90-8e9a-562b63ebc57d",
   "metadata": {},
   "outputs": [
    {
     "data": {
      "text/plain": [
       "(6, 6)"
      ]
     },
     "execution_count": 51,
     "metadata": {},
     "output_type": "execute_result"
    }
   ],
   "source": [
    "X_2015.shape"
   ]
  },
  {
   "cell_type": "code",
   "execution_count": null,
   "id": "fcc4f8d9-e74f-4a41-9437-9fc69c7d9933",
   "metadata": {},
   "outputs": [],
   "source": [
    "## Scale num faetures \n",
    "scaler = StandardScaler()\n",
    "X_city[num_cols] = scaler.fit_transform(X_city[num_cols])\n",
    "X_2015[num_cols] = scaler.fit_transform(X_2015[num_cols])"
   ]
  }
 ],
 "metadata": {
  "kernelspec": {
   "display_name": "Python [conda env:base] *",
   "language": "python",
   "name": "conda-base-py"
  },
  "language_info": {
   "codemirror_mode": {
    "name": "ipython",
    "version": 3
   },
   "file_extension": ".py",
   "mimetype": "text/x-python",
   "name": "python",
   "nbconvert_exporter": "python",
   "pygments_lexer": "ipython3",
   "version": "3.13.5"
  }
 },
 "nbformat": 4,
 "nbformat_minor": 5
}
